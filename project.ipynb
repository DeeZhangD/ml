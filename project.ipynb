{
 "cells": [
  {
   "cell_type": "code",
   "execution_count": 1,
   "metadata": {
    "collapsed": true
   },
   "outputs": [],
   "source": [
    "import sklearn as sk\n",
    "from sklearn import preprocessing\n",
    "from sklearn.preprocessing import OneHotEncoder, StandardScaler\n",
    "from sklearn.feature_extraction import DictVectorizer\n",
    "from sklearn.base import BaseEstimator, TransformerMixin\n",
    "from sklearn.model_selection import GridSearchCV \n",
    "from sklearn.model_selection import StratifiedKFold\n",
    "from xgboost import XGBClassifier\n",
    "from sklearn import preprocessing\n",
    "from sklearn.model_selection import train_test_split\n",
    "from sklearn.pipeline import Pipeline\n",
    "from sklearn.base import BaseEstimator, TransformerMixin\n",
    "import numpy as np\n",
    "import pandas as pd\n",
    "import csv\n",
    "from sklearn.neighbors import KNeighborsClassifier\n",
    "from sklearn.svm import SVC\n",
    "from sklearn.metrics import f1_score, accuracy_score\n",
    "import lightgbm as lgb\n",
    "from sklearn.tree import DecisionTreeClassifier\n",
    "from imblearn.under_sampling import RandomUnderSampler\n",
    "from imblearn.over_sampling import RandomOverSampler\n",
    "from imblearn.over_sampling import SMOTE"
   ]
  },
  {
   "cell_type": "code",
   "execution_count": 2,
   "metadata": {
    "collapsed": false,
    "pycharm": {
     "name": "#%%\n"
    }
   },
   "outputs": [],
   "source": [
    "import openpyxl\n",
    "train_data = pd.read_excel(\"cases_2021_train_processed_2.xlsx\")\n",
    "test_data = pd.read_excel(\"cases_2021_test_processed_unlabelled_2.xlsx\")"
   ]
  },
  {
   "cell_type": "code",
   "execution_count": 3,
   "metadata": {
    "collapsed": false,
    "pycharm": {
     "name": "#%%\n"
    }
   },
   "outputs": [
    {
     "data": {
      "text/html": [
       "<div>\n",
       "<style scoped>\n",
       "    .dataframe tbody tr th:only-of-type {\n",
       "        vertical-align: middle;\n",
       "    }\n",
       "\n",
       "    .dataframe tbody tr th {\n",
       "        vertical-align: top;\n",
       "    }\n",
       "\n",
       "    .dataframe thead th {\n",
       "        text-align: right;\n",
       "    }\n",
       "</style>\n",
       "<table border=\"1\" class=\"dataframe\">\n",
       "  <thead>\n",
       "    <tr style=\"text-align: right;\">\n",
       "      <th></th>\n",
       "      <th>age</th>\n",
       "      <th>latitude</th>\n",
       "      <th>longitude</th>\n",
       "      <th>Confirmed</th>\n",
       "      <th>Deaths</th>\n",
       "      <th>Recovered</th>\n",
       "      <th>Active</th>\n",
       "      <th>Incident_Rate</th>\n",
       "      <th>Case_Fatality_Ratio</th>\n",
       "    </tr>\n",
       "  </thead>\n",
       "  <tbody>\n",
       "    <tr>\n",
       "      <th>count</th>\n",
       "      <td>17212.000000</td>\n",
       "      <td>17212.00000</td>\n",
       "      <td>17212.000000</td>\n",
       "      <td>1.721200e+04</td>\n",
       "      <td>17212.000000</td>\n",
       "      <td>1.721200e+04</td>\n",
       "      <td>1.721200e+04</td>\n",
       "      <td>17212.000000</td>\n",
       "      <td>17212.000000</td>\n",
       "    </tr>\n",
       "    <tr>\n",
       "      <th>mean</th>\n",
       "      <td>37.917035</td>\n",
       "      <td>15.52814</td>\n",
       "      <td>87.779277</td>\n",
       "      <td>7.533620e+05</td>\n",
       "      <td>10575.751975</td>\n",
       "      <td>7.030148e+05</td>\n",
       "      <td>3.977138e+04</td>\n",
       "      <td>985.076567</td>\n",
       "      <td>1.331406</td>\n",
       "    </tr>\n",
       "    <tr>\n",
       "      <th>std</th>\n",
       "      <td>18.665858</td>\n",
       "      <td>5.67391</td>\n",
       "      <td>18.462448</td>\n",
       "      <td>2.946011e+05</td>\n",
       "      <td>5296.792015</td>\n",
       "      <td>2.749654e+05</td>\n",
       "      <td>8.719765e+04</td>\n",
       "      <td>527.183388</td>\n",
       "      <td>0.420566</td>\n",
       "    </tr>\n",
       "    <tr>\n",
       "      <th>min</th>\n",
       "      <td>0.000000</td>\n",
       "      <td>-34.92890</td>\n",
       "      <td>-123.100000</td>\n",
       "      <td>1.930000e+02</td>\n",
       "      <td>1.000000</td>\n",
       "      <td>1.830000e+02</td>\n",
       "      <td>1.000000e+00</td>\n",
       "      <td>0.771388</td>\n",
       "      <td>0.049685</td>\n",
       "    </tr>\n",
       "    <tr>\n",
       "      <th>25%</th>\n",
       "      <td>24.000000</td>\n",
       "      <td>12.82423</td>\n",
       "      <td>78.151640</td>\n",
       "      <td>7.472880e+05</td>\n",
       "      <td>12567.000000</td>\n",
       "      <td>6.037460e+05</td>\n",
       "      <td>1.587900e+04</td>\n",
       "      <td>681.949809</td>\n",
       "      <td>1.260476</td>\n",
       "    </tr>\n",
       "    <tr>\n",
       "      <th>50%</th>\n",
       "      <td>35.000000</td>\n",
       "      <td>13.12462</td>\n",
       "      <td>80.282520</td>\n",
       "      <td>8.866730e+05</td>\n",
       "      <td>12719.000000</td>\n",
       "      <td>8.580750e+05</td>\n",
       "      <td>1.587900e+04</td>\n",
       "      <td>1139.078325</td>\n",
       "      <td>1.434463</td>\n",
       "    </tr>\n",
       "    <tr>\n",
       "      <th>75%</th>\n",
       "      <td>51.000000</td>\n",
       "      <td>16.20000</td>\n",
       "      <td>86.399940</td>\n",
       "      <td>8.866730e+05</td>\n",
       "      <td>12719.000000</td>\n",
       "      <td>8.580750e+05</td>\n",
       "      <td>2.826700e+04</td>\n",
       "      <td>1139.078325</td>\n",
       "      <td>1.434463</td>\n",
       "    </tr>\n",
       "    <tr>\n",
       "      <th>max</th>\n",
       "      <td>99.000000</td>\n",
       "      <td>49.25000</td>\n",
       "      <td>153.400000</td>\n",
       "      <td>4.611392e+06</td>\n",
       "      <td>95052.000000</td>\n",
       "      <td>2.400727e+06</td>\n",
       "      <td>4.251829e+06</td>\n",
       "      <td>13943.072662</td>\n",
       "      <td>6.620495</td>\n",
       "    </tr>\n",
       "  </tbody>\n",
       "</table>\n",
       "</div>"
      ],
      "text/plain": [
       "                age     latitude     longitude     Confirmed        Deaths  \\\n",
       "count  17212.000000  17212.00000  17212.000000  1.721200e+04  17212.000000   \n",
       "mean      37.917035     15.52814     87.779277  7.533620e+05  10575.751975   \n",
       "std       18.665858      5.67391     18.462448  2.946011e+05   5296.792015   \n",
       "min        0.000000    -34.92890   -123.100000  1.930000e+02      1.000000   \n",
       "25%       24.000000     12.82423     78.151640  7.472880e+05  12567.000000   \n",
       "50%       35.000000     13.12462     80.282520  8.866730e+05  12719.000000   \n",
       "75%       51.000000     16.20000     86.399940  8.866730e+05  12719.000000   \n",
       "max       99.000000     49.25000    153.400000  4.611392e+06  95052.000000   \n",
       "\n",
       "          Recovered        Active  Incident_Rate  Case_Fatality_Ratio  \n",
       "count  1.721200e+04  1.721200e+04   17212.000000         17212.000000  \n",
       "mean   7.030148e+05  3.977138e+04     985.076567             1.331406  \n",
       "std    2.749654e+05  8.719765e+04     527.183388             0.420566  \n",
       "min    1.830000e+02  1.000000e+00       0.771388             0.049685  \n",
       "25%    6.037460e+05  1.587900e+04     681.949809             1.260476  \n",
       "50%    8.580750e+05  1.587900e+04    1139.078325             1.434463  \n",
       "75%    8.580750e+05  2.826700e+04    1139.078325             1.434463  \n",
       "max    2.400727e+06  4.251829e+06   13943.072662             6.620495  "
      ]
     },
     "execution_count": 3,
     "metadata": {},
     "output_type": "execute_result"
    }
   ],
   "source": [
    "train_data.describe()"
   ]
  },
  {
   "cell_type": "code",
   "execution_count": 4,
   "metadata": {
    "collapsed": false,
    "pycharm": {
     "name": "#%%\n"
    }
   },
   "outputs": [
    {
     "data": {
      "text/plain": [
       "<AxesSubplot:>"
      ]
     },
     "execution_count": 4,
     "metadata": {},
     "output_type": "execute_result"
    },
    {
     "data": {
      "image/png": "[encoded data removed]",
      "text/plain": [
       "<Figure size 432x288 with 1 Axes>"
      ]
     },
     "metadata": {
      "needs_background": "light"
     },
     "output_type": "display_data"
    }
   ],
   "source": [
    "train_data['province'].value_counts().sort_values(ascending=False).head(20).plot(kind='bar')"
   ]
  },
  {
   "cell_type": "code",
   "execution_count": 5,
   "metadata": {
    "collapsed": false,
    "pycharm": {
     "name": "#%%\n"
    }
   },
   "outputs": [
    {
     "data": {
      "text/plain": [
       "<AxesSubplot:>"
      ]
     },
     "execution_count": 5,
     "metadata": {},
     "output_type": "execute_result"
    },
    {
     "data": {
      "image/png": "[encoded data removed]",
      "text/plain": [
       "<Figure size 432x288 with 1 Axes>"
      ]
     },
     "metadata": {
      "needs_background": "light"
     },
     "output_type": "display_data"
    }
   ],
   "source": [
    "train_data['country'].value_counts().sort_values(ascending=False).head(20).plot(kind='bar')"
   ]
  },
  {
   "cell_type": "code",
   "execution_count": 6,
   "metadata": {
    "collapsed": false,
    "pycharm": {
     "name": "#%%\n"
    }
   },
   "outputs": [
    {
     "data": {
      "text/plain": [
       "array([[-0.43799907],\n",
       "       [ 1.03759968],\n",
       "       [-0.27401052],\n",
       "       ...,\n",
       "       [-0.43799907],\n",
       "       [-0.27401052],\n",
       "       [ 1.03759968]])"
      ]
     },
     "execution_count": 6,
     "metadata": {},
     "output_type": "execute_result"
    }
   ],
   "source": [
    "# train_data['Active'].hist()\n",
    "scalar = StandardScaler()\n",
    "scalar.fit_transform(train_data['Active'].values.reshape(-1, 1))"
   ]
  },
  {
   "cell_type": "markdown",
   "metadata": {},
   "source": [
    "# Data preprocess"
   ]
  },
  {
   "cell_type": "code",
   "execution_count": 7,
   "metadata": {},
   "outputs": [],
   "source": [
    "class CustomEncoder(TransformerMixin):\n",
    "   \n",
    "    def __init__(self, col, ordering=None):\n",
    "        self.col = col\n",
    "        self.ordering = ordering\n",
    "\n",
    "    def fit(self, *_):\n",
    "        return self\n",
    "\n",
    "    def create_ordering(self, df):\n",
    "        s = df[self.col]\n",
    "        s_list = s.dropna().unique()\n",
    "        # print(s_list)\n",
    "        s_list = sorted(s_list)\n",
    "        s_dict = {item: k for k, item in enumerate(s_list)}\n",
    "        return s_dict\n",
    "\n",
    "    def transform(self, df):\n",
    "        if df[self.col].isnull().sum() > 0:\n",
    "            df[self.col] = df[self.col].fillna(df[self.col].mode()[0])\n",
    "        if self.ordering is None:\n",
    "            self.ordering = self.create_ordering(df)\n",
    "        try:\n",
    "            df[self.col] = df[self.col].map(lambda x: self.ordering[x])\n",
    "        except KeyError:\n",
    "            self.ordering = self.create_ordering(df)\n",
    "            df[self.col] = df[self.col].map(lambda x: self.ordering[x])\n",
    "        return df"
   ]
  },
  {
   "cell_type": "code",
   "execution_count": 8,
   "metadata": {},
   "outputs": [],
   "source": [
    "class CustomStandardScarl(TransformerMixin):\n",
    "   \n",
    "    def __init__(self, col):\n",
    "        self.col = col\n",
    "\n",
    "    def fit(self, *_):\n",
    "        return self\n",
    "\n",
    "    def transform(self, df):\n",
    "        sd = StandardScaler()\n",
    "        df[self.col] = df[self.col]\n",
    "        if isinstance(self.col, list):\n",
    "            for _list_name in self.col:\n",
    "                df[_list_name] = sd.fit_transform(\n",
    "                    df[_list_name].values.reshape(-1, 1))\n",
    "        else:\n",
    "            df[self.col] = sd.fit_transform(df[self.col].values.reshape(-1, 1))\n",
    "        return df"
   ]
  },
  {
   "cell_type": "markdown",
   "metadata": {},
   "source": [
    "# Task 1.2 Mapping the features"
   ]
  },
  {
   "cell_type": "code",
   "execution_count": 9,
   "metadata": {},
   "outputs": [],
   "source": [
    "# mapping privince\n",
    "province_T = CustomEncoder(col='province')\n",
    "# mapping contry\n",
    "country_T = CustomEncoder(col='country')\n",
    "# mapping sex\n",
    "sex_T = CustomEncoder(col='sex')\n",
    "# mapping chronic\n",
    "chronic_T = CustomEncoder(col='chronic_disease_binary')\n",
    "# mapping outcome_group\n",
    "outcome_dict = {'deceased': 0, 'hospitalized': 1, 'nonhospitalized': 2}\n",
    "outcome_T = CustomEncoder(col='outcome_group', ordering=outcome_dict)\n",
    "# z-score\n",
    "std = CustomStandardScarl(col=['age', 'latitude', 'longitude', 'Confirmed', 'Deaths',\n",
    "                               'Recovered', 'Active', 'Incident_Rate', 'Case_Fatality_Ratio'])"
   ]
  },
  {
   "cell_type": "code",
   "execution_count": 10,
   "metadata": {},
   "outputs": [],
   "source": [
    "train_data_process_pipeline = Pipeline([\n",
    "    ('pt', province_T),\n",
    "    ('ct', country_T),\n",
    "    ('st', sex_T),\n",
    "    ('ot', outcome_T),\n",
    "    ('cht', chronic_T),\n",
    "    ('std', std)\n",
    "])\n",
    "\n",
    "test_data_process_pipeline = Pipeline([\n",
    "    ('pt', province_T),\n",
    "    ('ct', country_T),\n",
    "    ('st', sex_T),\n",
    "    ('cht', chronic_T),\n",
    "    ('std', std)\n",
    "])"
   ]
  },
  {
   "cell_type": "markdown",
   "metadata": {},
   "source": [
    "# Task 1.1 Feature selection"
   ]
  },
  {
   "cell_type": "code",
   "execution_count": 11,
   "metadata": {},
   "outputs": [
    {
     "name": "stderr",
     "output_type": "stream",
     "text": [
      "D:\\Miniconda\\envs\\cmpt459\\lib\\site-packages\\ipykernel_launcher.py:1: FutureWarning: In a future version of pandas all arguments of DataFrame.drop except for the argument 'labels' will be keyword-only\n",
      "  \"\"\"Entry point for launching an IPython kernel.\n",
      "D:\\Miniconda\\envs\\cmpt459\\lib\\site-packages\\ipykernel_launcher.py:4: FutureWarning: In a future version of pandas all arguments of DataFrame.drop except for the argument 'labels' will be keyword-only\n",
      "  after removing the cwd from sys.path.\n",
      "D:\\Miniconda\\envs\\cmpt459\\lib\\site-packages\\ipykernel_launcher.py:6: FutureWarning: In a future version of pandas all arguments of DataFrame.drop except for the argument 'labels' will be keyword-only\n",
      "  \n"
     ]
    }
   ],
   "source": [
    "train_data = train_data.drop('date_confirmation', 1)\n",
    "test_data_process_pipeline.fit_transform(test_data)\n",
    "train_data_process_pipeline.fit_transform(train_data)\n",
    "X = train_data.drop('outcome_group', 1).drop('province', 1).drop('latitude',1).drop('longitude',1).drop('country',1)\n",
    "Y = train_data['outcome_group']\n",
    "test_x = test_data.drop('date_confirmation', 1).drop('province', 1).drop('latitude',1).drop('longitude',1).drop('country',1)"
   ]
  },
  {
   "cell_type": "markdown",
   "metadata": {},
   "source": [
    "# Task 1.3 Balancing the classes in the training dataset"
   ]
  },
  {
   "cell_type": "code",
   "execution_count": 12,
   "metadata": {},
   "outputs": [],
   "source": [
    "x_train, x_test, y_train, y_test = train_test_split(X, Y, train_size=0.8, test_size=0.2, random_state=99)"
   ]
  },
  {
   "cell_type": "code",
   "execution_count": 13,
   "metadata": {},
   "outputs": [
    {
     "name": "stdout",
     "output_type": "stream",
     "text": [
      "dataset shape Counter({1: 10585, 2: 2389, 0: 795})\n",
      "Resampled dataset shape Counter({2: 10585, 1: 10585, 0: 10585})\n"
     ]
    }
   ],
   "source": [
    "from collections import Counter\n",
    "print('dataset shape %s' % Counter(y_train))\n",
    "# ros = RandomOverSampler(random_state=42)\n",
    "# ros = RandomUnderSampler(random_state=42)\n",
    "ros = SMOTE(random_state=42)\n",
    "x_train, y_train = ros.fit_resample(x_train, y_train)\n",
    "X, Y = ros.fit_resample(X, Y)\n",
    "print('Resampled dataset shape %s' % Counter(y_train))\n"
   ]
  },
  {
   "cell_type": "markdown",
   "metadata": {},
   "source": [
    "# Task 1.4 Building models and hyperparameter tuning"
   ]
  },
  {
   "cell_type": "code",
   "execution_count": 14,
   "metadata": {},
   "outputs": [],
   "source": [
    "def get_model(model_name='dt'):\n",
    "    if model_name == 'xgboost':\n",
    "        # model = XGBClassifier() \n",
    "        model = XGBClassifier(tree_method='gpu_hist', gpu_id=0)\n",
    "    elif model_name == 'knn':\n",
    "        model = KNeighborsClassifier()\n",
    "    elif model_name == 'svm':\n",
    "        model = SVC()\n",
    "    elif model_name == 'lgbm':\n",
    "        model = lgb.LGBMClassifier()\n",
    "    elif model_name =='dt':\n",
    "        model = DecisionTreeClassifier()\n",
    "    \n",
    "    return model"
   ]
  },
  {
   "cell_type": "code",
   "execution_count": 15,
   "metadata": {},
   "outputs": [],
   "source": [
    "def get_parameter(model_name='xgboost'):\n",
    "    # search for hyperparameter\n",
    "    if model_name == 'xgboost':\n",
    "        learning_rate = [0.0001, 0.001, 0.01, 0.02, 0.03, 0.04, 0.1, 0.2, 0.3] \n",
    "        gamma = [1, 0.1, 0.01, 0.001, 1e-4, 1e-5]\n",
    "        grid = dict(learning_rate=learning_rate, gamma=gamma)\n",
    "    elif model_name == 'svm':\n",
    "        kernel = ['poly', 'rbf', 'sigmoid', 'precomputed']\n",
    "        gamma = [1, 0.1, 0.01, 0.001, 1e-4, 1e-5]\n",
    "        grid = dict(kernel=kernel, gamma=gamma)\n",
    "    elif model_name == 'knn':\n",
    "        n_neighbors = [5, 6, 7, 8, 9, 10]\n",
    "        algorithm = ['ball_tree', 'kd_tree', 'brute']\n",
    "        grid = dict(n_neighbors=n_neighbors, algorithm=algorithm)\n",
    "    elif model_name == 'lgbm':\n",
    "        # learning_rate=[0.1]\n",
    "        # # min_child_samples=[20000]\n",
    "        # # objective=['cross_entropy']\n",
    "        # # importance_type=['gain']\n",
    "        # # class_weight=['balanced']\n",
    "        # # boosting_type=['gbdt']\n",
    "        # n_estimators=[20]\n",
    "        # silent=[True]\n",
    "        # n_jobs=[1]\n",
    "        # random_state=[0]\n",
    "        learning_rate = [0.0001, 0.001, 0.01, 0.02, 0.03, 0.04, 0.1, 0.2, 0.3] \n",
    "        lambda_l1 = [1, 0.1, 0.01, 0.001, 1e-4, 1e-5]\n",
    "        # random_state=[666]\n",
    "        max_depth = [5]\n",
    "        # learning_rate = [0.3]\n",
    "        # lambda_l1 = [1]\n",
    "        # max_depth = [5]\n",
    "        # # num_leaves =[0,1,2,3,4,5,6,7,8,9,10,16]\n",
    "        # num_leaves = [5, 6, 7, 12, 13, 14, 15, 28, 29, 30, 31]\n",
    "        # subsample = [0.8, 0.9, 1.0]\n",
    "        # colsample_bytree = [0.8, 0.9, 1.0]\n",
    "        # n_estimators = [20]\n",
    "        grid = dict(learning_rate=learning_rate, lambda_l1=lambda_l1, max_depth=max_depth)\n",
    "        # grid = dict(learning_rate=learning_rate, lambda_l1=lambda_l1,random_state=random_state)\n",
    "        # grid = dict(max_depth=max_depth)\n",
    "    elif model_name == 'dt':\n",
    "        min_samples_leaf = [3,4,5,6, 8]  \n",
    "        random_state = [10, 20, 30, 40] \n",
    "        criterion = ['gini', 'entropy']\n",
    "        max_depth = [2,4,8,10,12,14,16,32]\n",
    "        grid = dict(min_samples_leaf=min_samples_leaf, random_state=random_state, criterion = criterion, max_depth = max_depth)\n",
    "\n",
    "    return grid"
   ]
  },
  {
   "cell_type": "code",
   "execution_count": 16,
   "metadata": {},
   "outputs": [],
   "source": [
    "def main(model_name='dt'):\n",
    "    \n",
    "    param_grid = get_parameter(model_name)\n",
    "   \n",
    "    model = get_model(model_name)\n",
    "    \n",
    "    x_train, x_test, y_train, y_test = train_test_split(X, Y, train_size=0.8, test_size=0.2, random_state=99)\n",
    "    \n",
    "    kflod = StratifiedKFold(n_splits=10, shuffle=True, random_state=99) \n",
    "    # grid search\n",
    "    grid_search = GridSearchCV(\n",
    "        model, param_grid, scoring='f1_macro', n_jobs=-1, cv=kflod, verbose=3)\n",
    "    # get the result\n",
    "    grid_result = grid_search.fit(x_train, y_train) \n",
    "    pd.DataFrame(grid_result.cv_results_).to_csv(f'{model_name}.csv', mode='a')\n",
    "    y_predict = grid_search.predict(x_test)\n",
    "\n",
    "    print(f'model_name: {model_name}')\n",
    "    print('f1_macro: ', f1_score(y_predict, y_test, average='macro'))\n",
    "    print('f1 on \\'deceased\\': ', f1_score(y_predict, y_test, average=None)[0])\n",
    "    print('acc: ', accuracy_score(y_predict, y_test))\n"
   ]
  },
  {
   "cell_type": "markdown",
   "metadata": {},
   "source": [
    "### Test each model"
   ]
  },
  {
   "cell_type": "code",
   "execution_count": 17,
   "metadata": {},
   "outputs": [],
   "source": [
    "# main(model_name='knn')"
   ]
  },
  {
   "cell_type": "code",
   "execution_count": 18,
   "metadata": {},
   "outputs": [],
   "source": [
    "main(model_name='dt')"
   ]
  },
  {
   "cell_type": "code",
   "execution_count": 19,
   "metadata": {},
   "outputs": [
    {
     "name": "stdout",
     "output_type": "stream",
     "text": [
      "Fitting 10 folds for each of 54 candidates, totalling 540 fits\n"
     ]
    },
    {
     "name": "stderr",
     "output_type": "stream",
     "text": [
      "D:\\Miniconda\\envs\\cmpt459\\lib\\site-packages\\xgboost\\sklearn.py:1224: UserWarning: The use of label encoder in XGBClassifier is deprecated and will be removed in a future release. To remove this warning, do the following: 1) Pass option use_label_encoder=False when constructing XGBClassifier object; and 2) Encode your labels (y) as integers starting with 0, i.e. 0, 1, 2, ..., [num_class - 1].\n",
      "  warnings.warn(label_encoder_deprecation_msg, UserWarning)\n"
     ]
    },
    {
     "name": "stdout",
     "output_type": "stream",
     "text": [
      "[22:44:51] WARNING: C:/Users/Administrator/workspace/xgboost-win64_release_1.5.1/src/learner.cc:1115: Starting in XGBoost 1.3.0, the default evaluation metric used with the objective 'multi:softprob' was changed from 'merror' to 'mlogloss'. Explicitly set eval_metric if you'd like to restore the old behavior.\n",
      "model_name: xgboost\n",
      "f1_macro:  0.8681252765510491\n",
      "f1 on 'deceased':  0.8154443007574359\n",
      "acc:  0.8679672750157331\n"
     ]
    }
   ],
   "source": [
    "#main(model_name='xgboost')"
   ]
  },
  {
   "cell_type": "code",
   "execution_count": 20,
   "metadata": {},
   "outputs": [],
   "source": [
    "# main(model_name='svm')"
   ]
  },
  {
   "cell_type": "code",
   "execution_count": 21,
   "metadata": {},
   "outputs": [],
   "source": [
    "# main(model_name='lgbm')"
   ]
  },
  {
   "cell_type": "markdown",
   "metadata": {},
   "source": [
    "# 1.7 Prediction on the test set"
   ]
  },
  {
   "cell_type": "code",
   "execution_count": 22,
   "metadata": {},
   "outputs": [],
   "source": [
    "def create_submission_file(y_preds, file_name): \n",
    "    with open(file_name, 'w',newline='') as csvfile: \n",
    "        wr = csv.writer(csvfile, quoting=csv.QUOTE_ALL) \n",
    "        wr.writerow([\"Id\", \"Prediction\"]) \n",
    "        for i, pred in enumerate(y_preds): \n",
    "            wr.writerow([str(i), str(pred)]) \n",
    "    print(f\"{file_name} done!\")"
   ]
  },
  {
   "cell_type": "code",
   "execution_count": 23,
   "metadata": {},
   "outputs": [
    {
     "name": "stderr",
     "output_type": "stream",
     "text": [
      "D:\\Miniconda\\envs\\cmpt459\\lib\\site-packages\\xgboost\\sklearn.py:1224: UserWarning: The use of label encoder in XGBClassifier is deprecated and will be removed in a future release. To remove this warning, do the following: 1) Pass option use_label_encoder=False when constructing XGBClassifier object; and 2) Encode your labels (y) as integers starting with 0, i.e. 0, 1, 2, ..., [num_class - 1].\n",
      "  warnings.warn(label_encoder_deprecation_msg, UserWarning)\n"
     ]
    },
    {
     "name": "stdout",
     "output_type": "stream",
     "text": [
      "[22:44:53] WARNING: C:/Users/Administrator/workspace/xgboost-win64_release_1.5.1/src/learner.cc:1115: Starting in XGBoost 1.3.0, the default evaluation metric used with the objective 'multi:softprob' was changed from 'merror' to 'mlogloss'. Explicitly set eval_metric if you'd like to restore the old behavior.\n",
      "submission_xgboost.csv done!\n"
     ]
    }
   ],
   "source": [
    "model_name = 'dt'\n",
    "# model = XGBClassifier(tree_method='gpu_hist', gpu_id=0, learning_rate=0.2, gamma=0.001)\n",
    "# model = XGBClassifier(tree_method='gpu_hist', gpu_id=0, learning_rate=0.2, gamma=0.001)\n",
    "# model = KNeighborsClassifier(n_neighbors=10,algorithm ='ball_tree')\n",
    "# model = lgb.LGBMClassifier(learning_rate= 0.2,lambda_l1=1,)\n",
    "model.fit(X, Y)\n",
    "y_preds = model.predict(test_x)\n",
    "create_submission_file(y_preds, f\"submission_{model_name}.csv\")"
   ]
  },
  {
   "cell_type": "code",
   "execution_count": null,
   "metadata": {},
   "outputs": [],
   "source": []
  }
 ],
 "metadata": {
  "interpreter": {
   "hash": "4e280cb6a5dc97e285961cfcd814fd368d3982db91babf5cd7a64fbd18903e88"
  },
  "kernelspec": {
   "display_name": "Python 3.6.11 64-bit ('TPAMI': conda)",
   "language": "python",
   "name": "python3"
  },
  "language_info": {
   "codemirror_mode": {
    "name": "ipython",
    "version": 3
   },
   "file_extension": ".py",
   "mimetype": "text/x-python",
   "name": "python",
   "nbconvert_exporter": "python",
   "pygments_lexer": "ipython3",
   "version": "3.7.11"
  },
  "metadata": {
   "interpreter": {
    "hash": "db547c5130760837b9815fad2477e01b3f91a2f43f799d492f142daa015de6e2"
   }
  },
  "orig_nbformat": 3
 },
 "nbformat": 4,
 "nbformat_minor": 0
}
